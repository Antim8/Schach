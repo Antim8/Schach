{
 "cells": [
  {
   "cell_type": "code",
   "execution_count": 19,
   "metadata": {},
   "outputs": [],
   "source": [
    "#include <iostream>\n",
    "#include <algoviz/SVG.hpp>\n",
    "\n",
    "AlgoViz::clear();\n",
    "\n",
    "\n",
    "\n",
    "SVG spielfeld = SVG(400, 700 , \"Doodlenudel\");\n",
    "Rect r1 = Rect(0,0,400,700, &spielfeld);\n",
    "r1.setFill(0, 0, 0, 0.2);\n",
    "Circle c1 = Circle(200, 600, 20, &spielfeld);\n",
    "c1.setFill(\"red\");\n",
    "Text score = Text(\"Punkte: 999\", 10,20, &spielfeld);\n",
    "score.setFill(\"red\");\n",
    "\n",
    "Rect boden = Rect(0,620,400,80,&spielfeld);\n",
    "boden.setFill(\"black\");\n",
    "\n",
    "Rect r2 = Rect(100, 550, 50,10, &spielfeld);\n",
    "r2.setFill(\"green\");\n",
    "\n",
    "Rect border = Rect(0,400,400,10,&spielfeld);\n",
    "border.setFill(\"yellow\");\n"
   ]
  },
  {
   "cell_type": "markdown",
   "metadata": {},
   "source": [
    "<h1>Fragen</h1> <br>\n",
    "<ul>\n",
    "    <li>\n",
    "        Texte verändern\n",
    "    </li>\n",
    "    <li>\n",
    "        Geht das so\n",
    "    </li>\n",
    "    <li>\n",
    "        Muss die Spielwelt zufällig generiert werden\n",
    "    </li>\n",
    "</ul>\n"
   ]
  }
 ],
 "metadata": {
  "kernelspec": {
   "display_name": "C++17",
   "language": "C++17",
   "name": "xcpp17"
  },
  "language_info": {
   "codemirror_mode": "text/x-c++src",
   "file_extension": ".cpp",
   "mimetype": "text/x-c++src",
   "name": "c++",
   "version": "17"
  }
 },
 "nbformat": 4,
 "nbformat_minor": 4
}
