{
 "cells": [
  {
   "cell_type": "code",
   "execution_count": 1,
   "metadata": {},
   "outputs": [],
   "source": [
    "#include \"Klassen/Schachbrett.hpp\"\n",
    "\n",
    "Schachbrett feld = Schachbrett();"
   ]
  },
  {
   "cell_type": "markdown",
   "metadata": {},
   "source": [
    "<h1>Fragen</h1> <br>\n",
    "<ul>\n",
    "    Texte formatierne etc\n",
    "    \n",
    "</ul>"
   ]
  },
  {
   "cell_type": "raw",
   "metadata": {},
   "source": [
    "IDEEN:\n",
    "\n",
    "Grundsätzliches Schach mit 2 Spielern, Steuern der Figuren nach Regeln\n",
    "\n",
    "Rochade/Sonderregeln\n",
    "\n",
    "Erkennung eines Endzustandes: Schachmatt/Remis /Unentschieden\n",
    "\n",
    "Hovern und anzeigen der Felder die Möglich sind\n",
    "->Anfängermodus\n",
    "\n",
    "Asynchrone Uhr nebenbeilaufen lassen\n",
    "\n",
    "Tote Figuren anzeigen\n",
    "\n",
    "Dame zurück ins Leben bei Bauern am Ende\n",
    "\n",
    "Vorteilsbalken\n",
    "\n",
    "Hauptmenu\n",
    "\n"
   ]
  }
 ],
 "metadata": {
  "kernelspec": {
   "display_name": "C++17",
   "language": "C++17",
   "name": "xcpp17"
  },
  "language_info": {
   "codemirror_mode": "text/x-c++src",
   "file_extension": ".cpp",
   "mimetype": "text/x-c++src",
   "name": "c++",
   "version": "17"
  }
 },
 "nbformat": 4,
 "nbformat_minor": 4
}
