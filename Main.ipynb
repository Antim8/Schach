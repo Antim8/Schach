{
 "cells": [
  {
   "cell_type": "code",
   "execution_count": null,
   "metadata": {},
   "outputs": [
    {
     "name": "stderr",
     "output_type": "stream",
     "text": [
      "In file included from input_line_7:1:\n",
      "\u001b[1m./Klassen/Schachbrett.hpp:69:21: \u001b[0m\u001b[0;1;31merror: \u001b[0m\u001b[1mcannot cast 'Bauer' to its private base class 'Figur'\u001b[0m\n",
      "    figuren[0][0] = new Bauer();\n",
      "\u001b[0;1;32m                    ^\n",
      "\u001b[0m\u001b[1m./Klassen/Bauern.hpp:5:15: \u001b[0m\u001b[0;1;30mnote: \u001b[0mimplicitly declared private here\u001b[0m\n",
      "class Bauer : Figur {\n",
      "\u001b[0;1;32m              ^~~~~\n",
      "\u001b[0mIn file included from input_line_7:1:\n",
      "\u001b[1m./Klassen/Schachbrett.hpp:70:21: \u001b[0m\u001b[0;1;31merror: \u001b[0m\u001b[1mcannot cast 'Dame' to its private base class 'Figur'\u001b[0m\n",
      "    figuren[0][1] = new Dame();\n",
      "\u001b[0;1;32m                    ^\n",
      "\u001b[0m\u001b[1m./Klassen/Dame.hpp:4:14: \u001b[0m\u001b[0;1;30mnote: \u001b[0mimplicitly declared private here\u001b[0m\n",
      "class Dame : Figur {\n",
      "\u001b[0;1;32m             ^~~~~\n",
      "\u001b[0m"
     ]
    }
   ],
   "source": [
    "#include \"Klassen/Schachbrett.hpp\"\n",
    "#include \"Klassen/Bauern.hpp\"\n",
    "\n",
    "\n",
    "\n",
    "\n",
    "Schachbrett feld = Schachbrett();"
   ]
  },
  {
   "cell_type": "code",
   "execution_count": null,
   "metadata": {},
   "outputs": [],
   "source": []
  },
  {
   "cell_type": "markdown",
   "metadata": {},
   "source": [
    "<h1>Fragen</h1> <br>\n",
    "<ul>\n",
    "    Texte formatierne etc\n",
    "    \n",
    "</ul>"
   ]
  },
  {
   "cell_type": "raw",
   "metadata": {},
   "source": [
    "IDEEN:\n",
    "\n",
    "Grundsätzliches Schach mit 2 Spielern, Steuern der Figuren nach Regeln\n",
    "\n",
    "Rochade/Sonderregeln\n",
    "\n",
    "Erkennung eines Endzustandes: Schachmatt/Remis /Unentschieden\n",
    "\n",
    "Hovern und anzeigen der Felder die Möglich sind\n",
    "->Anfängermodus\n",
    "\n",
    "Asynchrone Uhr nebenbeilaufen lassen\n",
    "\n",
    "Tote Figuren anzeigen\n",
    "\n",
    "Dame zurück ins Leben bei Bauern am Ende\n",
    "\n",
    "Vorteilsbalken\n",
    "\n",
    "Hauptmenu\n",
    "\n"
   ]
  }
 ],
 "metadata": {
  "kernelspec": {
   "display_name": "C++17",
   "language": "C++17",
   "name": "xcpp17"
  },
  "language_info": {
   "codemirror_mode": "text/x-c++src",
   "file_extension": ".cpp",
   "mimetype": "text/x-c++src",
   "name": "c++",
   "version": "17"
  }
 },
 "nbformat": 4,
 "nbformat_minor": 4
}
