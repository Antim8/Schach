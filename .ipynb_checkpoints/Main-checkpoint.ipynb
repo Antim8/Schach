{
 "cells": [
  {
   "cell_type": "code",
   "execution_count": 1,
   "metadata": {},
   "outputs": [],
   "source": [
    "#include \"Klassen/Schachbrett.hpp\"\n",
    "#include \"Klassen/Bauer.hpp\"\n",
    "#include \"Klassen/Turm.hpp\"\n",
    "#include \"Klassen/Springer.hpp\"\n",
    "#include \"Klassen/Laeufer.hpp\"\n",
    "#include \"Klassen/Dame.hpp\"\n",
    "#include \"Klassen/Koenig.hpp\"\n",
    "\n",
    "Schachbrett brett = Schachbrett();\n",
    "\n",
    "brett.startingOrder();\n",
    "SVG *feld = brett.getFeld(); \n",
    "\n",
    "//weiße Figuren\n",
    "\n",
    "Bauer *white_b[8];\n",
    "Turm *white_t[2];\n",
    "Springer *white_s[2];\n",
    "Laeufer *white_l[2];\n",
    "Dame *white_d;\n",
    "Koenig *white_k;\n",
    "\n",
    "// schawrze Figuren\n",
    "\n",
    "Bauer *black_b[8];\n",
    "Turm *black_t[2];\n",
    "Springer *black_s[2];\n",
    "Laeufer *black_l[2];\n",
    "Dame *black_d;\n",
    "Koenig *black_k;\n",
    "\n",
    "for (int i = 1; i <= 8; i++) {\n",
    "    black_b[i] = new Bauer(7, i, false, feld);\n",
    "    white_b[i] = new Bauer(2, i, true, feld);\n",
    "}\n",
    "\n",
    "for (int i = 0; i < 2; i++) {\n",
    "    black_t[i] = new Turm(8, 1 + i * 7, false, feld);\n",
    "    white_t[i] = new Turm(1, 1 + i * 7, true, feld);\n",
    "    \n",
    "    black_s[i] = new Springer(8, 2 + i * 5, false, feld);\n",
    "    white_s[i] = new Springer(1, 2 + i * 5, true, feld);\n",
    "    \n",
    "    black_l[i] = new Laeufer(8, 3 + i * 3, false, feld);\n",
    "    white_l[i] = new Laeufer(1, 3 + i * 3, true, feld);\n",
    "}\n",
    "\n",
    "black_d = new Dame(8, 4, false, feld);\n",
    "white_d = new Dame(1, 4, true, feld);\n",
    "\n",
    "black_k = new Koenig(8, 5, false, feld);\n",
    "white_k = new Koenig(1, 5, true, feld);\n"
   ]
  },
  {
   "cell_type": "code",
   "execution_count": null,
   "metadata": {},
   "outputs": [],
   "source": [
    "MouseState maus;\n",
    "string taste = \"\";\n",
    "bool player = true;"
   ]
  },
  {
   "cell_type": "markdown",
   "metadata": {},
   "source": [
    "<h1>Fragen</h1> <br>\n",
    "<ul>\n",
    "    Texte formatierne etc\n",
    "    \n",
    "</ul>"
   ]
  },
  {
   "cell_type": "raw",
   "metadata": {},
   "source": [
    "IDEEN:\n",
    "\n",
    "Grundsätzliches Schach mit 2 Spielern, Steuern der Figuren nach Regeln\n",
    "\n",
    "Rochade/Sonderregeln\n",
    "\n",
    "Erkennung eines Endzustandes: Schachmatt/Remis /Unentschieden\n",
    "\n",
    "Hovern und anzeigen der Felder die Möglich sind\n",
    "->Anfängermodus\n",
    "\n",
    "Asynchrone Uhr nebenbeilaufen lassen\n",
    "\n",
    "Tote Figuren anzeigen\n",
    "\n",
    "Dame zurück ins Leben bei Bauern am Ende\n",
    "\n",
    "Vorteilsbalken\n",
    "\n",
    "Hauptmenu\n",
    "\n"
   ]
  }
 ],
 "metadata": {
  "kernelspec": {
   "display_name": "C++17",
   "language": "C++17",
   "name": "xcpp17"
  },
  "language_info": {
   "codemirror_mode": "text/x-c++src",
   "file_extension": ".cpp",
   "mimetype": "text/x-c++src",
   "name": "c++",
   "version": "17"
  }
 },
 "nbformat": 4,
 "nbformat_minor": 4
}
